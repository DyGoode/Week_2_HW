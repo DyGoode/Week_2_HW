{
 "cells": [
  {
   "cell_type": "markdown",
   "metadata": {},
   "source": [
    "# User-Defined Functions & Scoping"
   ]
  },
  {
   "cell_type": "markdown",
   "metadata": {},
   "source": [
    "## Tasks Today:\n",
    "\n",
    "\n",
    "1) Functions <br>\n",
    " &nbsp;&nbsp;&nbsp;&nbsp; a) User-Defined vs. Built-In Functions <br>\n",
    " &nbsp;&nbsp;&nbsp;&nbsp; b) Accepting Parameters <br>\n",
    " &nbsp;&nbsp;&nbsp;&nbsp; c) Default Parameters <br>\n",
    " &nbsp;&nbsp;&nbsp;&nbsp; d) Making an Argument Optional <br>\n",
    " &nbsp;&nbsp;&nbsp;&nbsp; e) Keyword Arguments <br>\n",
    " &nbsp;&nbsp;&nbsp;&nbsp; f) Returning Values <br>\n",
    " &nbsp;&nbsp;&nbsp;&nbsp; g) *args <br>\n",
    " &nbsp;&nbsp;&nbsp;&nbsp; h) Docstring <br>\n",
    " &nbsp;&nbsp;&nbsp;&nbsp; i) Using a User Function in a Loop <br>\n",
    "2) Scope\n",
    "3) Creating more User-Defined functions "
   ]
  },
  {
   "cell_type": "markdown",
   "metadata": {},
   "source": [
    "\n",
    "## Functions"
   ]
  },
  {
   "cell_type": "markdown",
   "metadata": {},
   "source": [
    "##### User-Defined vs. Built-In Functions"
   ]
  },
  {
   "cell_type": "code",
   "execution_count": null,
   "metadata": {},
   "outputs": [],
   "source": []
  },
  {
   "cell_type": "markdown",
   "metadata": {},
   "source": [
    "##### Accepting Parameters"
   ]
  },
  {
   "cell_type": "code",
   "execution_count": null,
   "metadata": {
    "scrolled": true
   },
   "outputs": [],
   "source": []
  },
  {
   "cell_type": "markdown",
   "metadata": {},
   "source": [
    "##### Default Parameters"
   ]
  },
  {
   "cell_type": "code",
   "execution_count": null,
   "metadata": {},
   "outputs": [],
   "source": []
  },
  {
   "cell_type": "code",
   "execution_count": null,
   "metadata": {},
   "outputs": [],
   "source": []
  },
  {
   "cell_type": "markdown",
   "metadata": {},
   "source": [
    "##### Making an Argument Optional"
   ]
  },
  {
   "cell_type": "code",
   "execution_count": null,
   "metadata": {},
   "outputs": [],
   "source": []
  },
  {
   "cell_type": "markdown",
   "metadata": {},
   "source": [
    "##### Keyword Arguments"
   ]
  },
  {
   "cell_type": "code",
   "execution_count": null,
   "metadata": {},
   "outputs": [],
   "source": []
  },
  {
   "cell_type": "code",
   "execution_count": null,
   "metadata": {},
   "outputs": [],
   "source": [
    "def school_hours(day, time =\"9:30am\", time_zone = \"CST\"):\n",
    "    return f\"Class starts {day} at {time} {time_zone}.\"\n",
    "\n",
    "print(school_hours(\"Monday\",))\n",
    "\n"
   ]
  },
  {
   "cell_type": "markdown",
   "metadata": {},
   "source": [
    "# Creating a start, stop, step function"
   ]
  },
  {
   "cell_type": "code",
   "execution_count": null,
   "metadata": {},
   "outputs": [],
   "source": [
    "def my_range(stop, start = 0, step = 1):\n",
    "    for i in range(start,stop,step):\n",
    "        print(i)\n",
    "        \n",
    "my_range(15,1,2)"
   ]
  },
  {
   "cell_type": "markdown",
   "metadata": {},
   "source": [
    "##### Returning Values"
   ]
  },
  {
   "cell_type": "code",
   "execution_count": null,
   "metadata": {},
   "outputs": [],
   "source": []
  },
  {
   "cell_type": "markdown",
   "metadata": {},
   "source": [
    "##### *args / **kwargs (keyword arguments)"
   ]
  },
  {
   "cell_type": "code",
   "execution_count": null,
   "metadata": {},
   "outputs": [],
   "source": []
  },
  {
   "cell_type": "code",
   "execution_count": null,
   "metadata": {},
   "outputs": [],
   "source": [
    "# Write a function that accepts positional arguments, atleast 3 args and\n",
    "# at least 2 kwargs and prints out each argument and keyword argument on its own line.\n",
    "\n",
    "\n",
    "def not_sure(day, time, *args, **kwargs):\n",
    "    print(day, time)\n",
    "    print(args)\n",
    "    print(kwargs)\n",
    "\n",
    "not_sure(\"thursday\", \"I\", \"am\", \"so\", \"very\", confused=[\"with\"], this=[\"stuff\"])"
   ]
  },
  {
   "cell_type": "code",
   "execution_count": null,
   "metadata": {},
   "outputs": [],
   "source": [
    "def halloween_time(season, *fun_things, **fav_movies):\n",
    "    print(“This is my positional argument: “)\n",
    "    print(f”my fav time of year is {season}\\n”)\n",
    "    print(“These are my *args: “)\n",
    "    print(“These are the things I like to do: “)\n",
    "    for pumpkins in fun_things:\n",
    "        print(pumpkins)\n",
    "    print(“\\nThese are my **kwargs: “)\n",
    "    print(“These are my fav spooky movies: “)\n",
    "    for key, value in fav_movies.items():\n",
    "        print(f”Genre is {key}“)\n",
    "        print(f”Movie is {value}“)\n",
    "halloween_time(‘Fall’, ‘pumpkin patches’, ‘hiking’,‘carve pumpkings’,‘corn mazes’, possession = ‘The Conjuring’, gore = ‘Saw’, animatedish = ‘Nightmare before Christmas’)\n",
    "\n",
    "\n",
    "\n",
    "\n",
    "\n",
    "\n",
    "\n"
   ]
  },
  {
   "cell_type": "markdown",
   "metadata": {},
   "source": [
    "##### Docstring"
   ]
  },
  {
   "cell_type": "code",
   "execution_count": null,
   "metadata": {},
   "outputs": [],
   "source": []
  },
  {
   "cell_type": "markdown",
   "metadata": {},
   "source": [
    "##### Using a User Function in a Loop"
   ]
  },
  {
   "cell_type": "code",
   "execution_count": null,
   "metadata": {},
   "outputs": [],
   "source": []
  },
  {
   "cell_type": "code",
   "execution_count": null,
   "metadata": {},
   "outputs": [],
   "source": [
    "#helper functions are another function that performs a task within another loop or function. \n",
    "#Used a lot when that particular utility needs to be used multiple times. \n",
    "\n",
    "def times_two(num):\n",
    "    \n",
    "    return num * 2\n",
    "\n",
    "def my_range(stop, start, step = 1):\n",
    "    for i in range(start,stop,step):\n",
    "        print(f\"this is our num: {i}\")\n",
    "        print(f\"this is our multipliation of num: {times_two(i)}\")\n",
    "        \n",
    "my_range(6,1)\n"
   ]
  },
  {
   "cell_type": "markdown",
   "metadata": {},
   "source": [
    "## Function Exercises <br>\n",
    "### Exercise 1\n",
    "<p>Write a function that loops through a list of first_names and a list of last_names, combines the two and return a list of full_names</p>"
   ]
  },
  {
   "cell_type": "code",
   "execution_count": null,
   "metadata": {},
   "outputs": [],
   "source": [
    "first_name = ['John', 'Evan', 'Jordan', 'Max']\n",
    "last_name = ['Smith', 'Smith', 'Williams', 'Bell']\n",
    "\n",
    "# Output: ['John Smith', 'Evan Smith', 'Jordan Williams', 'Max Bell']\n",
    "\n",
    "def full_names(first, last):\n",
    "    \"\"\" \n",
    "    Our function will retun full names\n",
    "    \"\"\"\n",
    "    return (first + \" \" + last).title()\n",
    "\n",
    "def names(first_name, last_name):\n",
    "    fulls = []\n",
    "    for i in range(len(first_name)):\n",
    "        whole_name = full_names(first_name[i], last_name[i])\n",
    "        fulls.append(whole_name)\n",
    "        \n",
    "    return fulls\n",
    "\n",
    "names(first_name, last_name)\n"
   ]
  },
  {
   "cell_type": "code",
   "execution_count": null,
   "metadata": {},
   "outputs": [],
   "source": [
    "\n",
    "    return (first + \" \" + last).title()\n",
    "\n",
    "def names(first_name, last_name):\n",
    "    \n",
    "    fulls = []\n",
    "    \n",
    "    for i in range (len(first_name)):\n",
    "        whole_name = full_names(first_name[i], last_name[i])\n",
    "        fulls.append(whole_name)\n",
    "        \n",
    "    return fulls\n",
    "\n",
    "names(first_name, last_name)\n"
   ]
  },
  {
   "cell_type": "markdown",
   "metadata": {},
   "source": [
    "### Exercise 2\n",
    "Create a function that alters all values in the given list by subtracting 5 and then doubling them."
   ]
  },
  {
   "cell_type": "code",
   "execution_count": null,
   "metadata": {},
   "outputs": [],
   "source": [
    "input_list = [5,10,15,20,3]\n",
    "# output = [0,10,20,30,-4]\n",
    "\n",
    "def subtract_5(arr):\n",
    "    \"\"\"\n",
    "    Function that alters all values in the given list by subtracting 5.\n",
    "    Returns a list.\n",
    "    \"\"\"\n",
    "    new_arr = []\n",
    "    for num in arr:\n",
    "        new_arr.append(num - 5)\n",
    "    return new_arr\n",
    "\n",
    "def double_num(arr):\n",
    "    \"\"\"\n",
    "    Function that alters all values in the given list by doubling them.\n",
    "    Returns a list.\n",
    "    \"\"\"\n",
    "    new_arr = []\n",
    "    for num in arr:\n",
    "        new_arr.append(num * 2)\n",
    "    return new_arr    \n",
    "\n",
    "print(double_num(subtract_5(input_list)))\n"
   ]
  },
  {
   "cell_type": "code",
   "execution_count": null,
   "metadata": {},
   "outputs": [],
   "source": [
    "def sub5_dubs(i):\n",
    "    \n",
    "    return int((i-5)*2)\n",
    "\n",
    "def input_list_modified(input_list):\n",
    "    \n",
    "    subdubs = []\n",
    "\n",
    "    for i in range(len(input_list)):\n",
    "        subdub = sub5_dubs(input_list[i])\n",
    "        subdubs.append(subdub)\n",
    "\n",
    "    return subdubs\n",
    "\n",
    "input_list_modified(input_list)\n"
   ]
  },
  {
   "cell_type": "markdown",
   "metadata": {},
   "source": [
    "### Exercise 3\n",
    "Create a function that takes in a list of strings and filters out the strings that DO NOT contain vowels. "
   ]
  },
  {
   "cell_type": "code",
   "execution_count": null,
   "metadata": {},
   "outputs": [],
   "source": [
    "string_list = ['Sheldon','Pnny','Leonard','Hwrd','Rj','Amy','Strt']\n",
    "# output = ['Sheldon','Leonard','Amy']\n",
    "\n",
    "vowels = {A, a, E, e, I, i, O, o, U, u, Y, y}\n",
    "\n",
    "def no_vowels():\n",
    "    for names in string_list :\n",
    "        for vowel in vowels :\n",
    "            if vowel in names:\n",
    "                "
   ]
  },
  {
   "cell_type": "code",
   "execution_count": null,
   "metadata": {},
   "outputs": [],
   "source": [
    "string_list = ['Sheldon','Pnny','Leonard','Hwrd','Rj','Amy','Strt']\n",
    "# output = ['Sheldon','Leonard','Amy']\n",
    "\n",
    "def strings_with_vowels(arr):\n",
    "    \"\"\"\n",
    "    function that takes in a list of strings and filters out the strings \n",
    "    that DO NOT contain vowels.\n",
    "    \n",
    "    Returns a list.\n",
    "    \"\"\"\n",
    "    return [word for word in arr if 'a' in word.lower() \n",
    "            or 'e' in word.lower() or 'i' in word.lower()\n",
    "            or 'o' in word.lower() or 'u' in word.lower()]\n",
    "\n",
    "strings_with_vowels(string_list)\n"
   ]
  },
  {
   "cell_type": "code",
   "execution_count": null,
   "metadata": {},
   "outputs": [],
   "source": [
    "string_list = ['Sheldon','Pnny','Leonard','Hwrd','Rj','Amy','Strt']\n",
    "# output = ['Sheldon','Leonard','Amy']\n",
    "\n",
    "def have_vowels(name):\n",
    "    \n",
    "    name_vowels = []\n",
    "    \n",
    "    vowels = ['a', 'e', 'i', 'o', 'u', 'A', 'E', 'I', 'O', 'U']\n",
    "    \n",
    "    for name in string_list:\n",
    "        if any(vowel in name for vowel in vowels):\n",
    "            name_vowels.append(name)\n",
    "    return name_vowels\n",
    "\n",
    "have_vowels(string_list)\n"
   ]
  },
  {
   "cell_type": "markdown",
   "metadata": {},
   "source": [
    "### Exercise 4\n",
    "Create a function that accepts a list as a parameter and returns a dictionary containing the list items as it's keys, and the number of times they appear in the list as the values"
   ]
  },
  {
   "cell_type": "code",
   "execution_count": null,
   "metadata": {},
   "outputs": [],
   "source": [
    "example_list = [\"Harry\", 'Hermione','Harry','Ron','Dobby','Draco','Luna','Harry','Hermione','Ron','Ron','Ron']\n",
    "\n",
    "# output = {\n",
    "#     \"Harry\":3,\n",
    "#     \"Hermione\":2,\n",
    "#     \"Ron\":4,\n",
    "#     \"Dobby\":1,\n",
    "#     \"Draco\":1,\n",
    "#     \"Luna\": 1\n",
    "# }\n",
    "\n",
    "def name_count(names):\n",
    "    dict = {}\n",
    "    for name in names:\n",
    "        count = 0\n",
    "        for i in range(len(names)):\n",
    "            if name == names[i]:\n",
    "                count += 1\n",
    "        dict[name] = count\n",
    "    return dict\n",
    "name_count(example_list)\n"
   ]
  },
  {
   "cell_type": "markdown",
   "metadata": {},
   "source": [
    "\n",
    "\n",
    "## Scope <br>\n",
    "<p>Scope refers to the ability to access variables, different types of scope include:<br>a) Global<br>b) Function (local)<br>c) Class (local)</p>"
   ]
  },
  {
   "cell_type": "code",
   "execution_count": null,
   "metadata": {},
   "outputs": [],
   "source": [
    "# placement of variable declaration matters\n",
    "\n",
    "number = 3 # Gloal Variable\n",
    "\n",
    "def myFunc():\n",
    "    num_3 = 6 # Local Function Variable\n",
    "    return num_3\n",
    "\n",
    "print(number)\n",
    "return_num = myFunc()\n",
    "print(return_num)"
   ]
  },
  {
   "cell_type": "markdown",
   "metadata": {},
   "source": [
    "# Homework Exercises"
   ]
  },
  {
   "cell_type": "markdown",
   "metadata": {},
   "source": [
    "## Exercise 1 <br>\n",
    "<p>Given a list as a parameter,write a function that returns a list of numbers that are less than ten</b></i></p><br>\n",
    "<p> For example: Say your input parameter to the function is [1,11,14,5,8,9]...Your output should [1,5,8,9]</p>"
   ]
  },
  {
   "cell_type": "code",
   "execution_count": 2,
   "metadata": {},
   "outputs": [
    {
     "data": {
      "text/plain": [
       "[1, 5, 8, 9]"
      ]
     },
     "execution_count": 2,
     "metadata": {},
     "output_type": "execute_result"
    }
   ],
   "source": [
    "# Write a function that returns a list of numbers that are less than ten\n",
    "# output should [1,5,8,9]\n",
    "\n",
    "l_1 = [1,11,14,5,8,9]\n",
    "\n",
    "def less_than(num):\n",
    "    \n",
    "    under_ten = []\n",
    "    \n",
    "    for num in l_1:\n",
    "        if num < 10:\n",
    "            under_ten.append(num)\n",
    "    return under_ten\n",
    "\n",
    "less_than(l_1)"
   ]
  },
  {
   "cell_type": "markdown",
   "metadata": {},
   "source": [
    "## Exercise 2 <br>\n",
    "<p>Write a function that takes in two lists and returns the two lists merged together and sorted<br>\n",
    "<b><i>Hint: You can use the .sort() method</i></b></p>"
   ]
  },
  {
   "cell_type": "code",
   "execution_count": 19,
   "metadata": {},
   "outputs": [
    {
     "data": {
      "text/plain": [
       "[1, 2, 3, 3, 4, 4, 5, 5, 6, 6, 7, 8, 10]"
      ]
     },
     "execution_count": 19,
     "metadata": {},
     "output_type": "execute_result"
    }
   ],
   "source": [
    "l_1 = [1,2,3,4,5,6]\n",
    "l_2 = [3,4,5,6,7,8,10]\n",
    "# Write a function that takes in two lists and returns the two lists merged together and sorted\n",
    "# output = [1, 2, 3, 3, 4, 4, 5, 5, 6, 6, 7, 8, 10]\n",
    "\n",
    "\n",
    "def merge_sort(l_1, l_2):\n",
    "    it_takes_two = l_1 + l_2\n",
    "    it_takes_two.sort()\n",
    "    return(it_takes_two)\n",
    "    \n",
    "merge_sort(l_1, l_2)\n",
    "\n",
    "\n",
    "def merge_sort_comprehension(l_1, l_2):\n",
    "    takes_two = [i for i in sorted(l_1 + l_2)]\n",
    "    return(takes_two)\n",
    "\n",
    "merge_sort_comprehension(l_1, l_2)\n"
   ]
  }
 ],
 "metadata": {
  "kernelspec": {
   "display_name": "Python 3 (ipykernel)",
   "language": "python",
   "name": "python3"
  },
  "language_info": {
   "codemirror_mode": {
    "name": "ipython",
    "version": 3
   },
   "file_extension": ".py",
   "mimetype": "text/x-python",
   "name": "python",
   "nbconvert_exporter": "python",
   "pygments_lexer": "ipython3",
   "version": "3.10.7"
  }
 },
 "nbformat": 4,
 "nbformat_minor": 2
}
